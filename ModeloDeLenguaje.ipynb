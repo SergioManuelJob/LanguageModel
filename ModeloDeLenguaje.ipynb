{
  "nbformat": 4,
  "nbformat_minor": 0,
  "metadata": {
    "colab": {
      "provenance": [],
      "authorship_tag": "ABX9TyNbvtWWAg63okuOgNWjwOqx",
      "include_colab_link": true
    },
    "kernelspec": {
      "name": "python3",
      "display_name": "Python 3"
    },
    "language_info": {
      "name": "python"
    }
  },
  "cells": [
    {
      "cell_type": "markdown",
      "metadata": {
        "id": "view-in-github",
        "colab_type": "text"
      },
      "source": [
        "<a href=\"https://colab.research.google.com/github/SergioManuelJob/LanguageModel/blob/master/ModeloDeLenguaje.ipynb\" target=\"_parent\"><img src=\"https://colab.research.google.com/assets/colab-badge.svg\" alt=\"Open In Colab\"/></a>"
      ]
    },
    {
      "cell_type": "markdown",
      "source": [
        "# Unidad de lenguaje\n",
        "\n",
        "Utilizando este modelo de HugggingFace: https://huggingface.co/Davlan/distilbert-base-multilingual-cased-ner-hrl"
      ],
      "metadata": {
        "id": "QJt3sFXrylAu"
      }
    },
    {
      "cell_type": "code",
      "execution_count": null,
      "metadata": {
        "id": "Ld2YRPKwyVQt"
      },
      "outputs": [],
      "source": [
        "!pip install gradio==4.14.0\n",
        "!pip install transformers==4.36.2\n",
        "from transformers import AutoTokenizer, AutoModelForTokenClassification, pipeline"
      ]
    },
    {
      "cell_type": "code",
      "source": [
        "tokenizer = AutoTokenizer.from_pretrained(\"Davlan/distilbert-base-multilingual-cased-ner-hrl\")\n",
        "model = AutoModelForTokenClassification.from_pretrained(\"Davlan/distilbert-base-multilingual-cased-ner-hrl\")"
      ],
      "metadata": {
        "id": "KAWWQM2my-2-"
      },
      "execution_count": null,
      "outputs": []
    },
    {
      "cell_type": "code",
      "source": [
        "def ner(text):\n",
        "  ner_pipe = pipeline('ner', model=model, tokenizer=tokenizer)\n",
        "  output = ner_pipe(text)\n",
        "  return {'text': text, 'entities': output}"
      ],
      "metadata": {
        "id": "CIL2-jxRzx1t"
      },
      "execution_count": 4,
      "outputs": []
    },
    {
      "cell_type": "code",
      "source": [
        "ner(\"Estuve de viaje por París\")"
      ],
      "metadata": {
        "colab": {
          "base_uri": "https://localhost:8080/"
        },
        "id": "pNWQtc_30TKn",
        "outputId": "03465e68-0138-40d1-bf7c-f3eba38c3306"
      },
      "execution_count": 5,
      "outputs": [
        {
          "output_type": "execute_result",
          "data": {
            "text/plain": [
              "{'text': 'Estuve de viaje por París',\n",
              " 'entities': [{'entity': 'B-LOC',\n",
              "   'score': 0.9980142,\n",
              "   'index': 6,\n",
              "   'word': 'París',\n",
              "   'start': 20,\n",
              "   'end': 25}]}"
            ]
          },
          "metadata": {},
          "execution_count": 5
        }
      ]
    },
    {
      "cell_type": "code",
      "source": [
        "import gradio as gr\n",
        "\n",
        "demo = gr.Interface(fn=ner,inputs='text',outputs=gr.HighlightedText(),theme=gr.themes.Glass())"
      ],
      "metadata": {
        "id": "rrMvKFx51CyG"
      },
      "execution_count": 6,
      "outputs": []
    },
    {
      "cell_type": "code",
      "source": [
        "demo.launch(debug=True)"
      ],
      "metadata": {
        "colab": {
          "base_uri": "https://localhost:8080/",
          "height": 630
        },
        "id": "oiLfwP0U1hwI",
        "outputId": "087d92ce-20e3-44b8-afa4-b5c3ff009e22"
      },
      "execution_count": null,
      "outputs": [
        {
          "output_type": "stream",
          "name": "stdout",
          "text": [
            "Setting queue=True in a Colab notebook requires sharing enabled. Setting `share=True` (you can turn this off by setting `share=False` in `launch()` explicitly).\n",
            "\n",
            "Colab notebook detected. This cell will run indefinitely so that you can see errors and logs. To turn off, set debug=False in launch().\n",
            "Running on public URL: https://913db951b5ea8d590e.gradio.live\n",
            "\n",
            "This share link expires in 72 hours. For free permanent hosting and GPU upgrades, run `gradio deploy` from Terminal to deploy to Spaces (https://huggingface.co/spaces)\n"
          ]
        },
        {
          "output_type": "display_data",
          "data": {
            "text/plain": [
              "<IPython.core.display.HTML object>"
            ],
            "text/html": [
              "<div><iframe src=\"https://913db951b5ea8d590e.gradio.live\" width=\"100%\" height=\"500\" allow=\"autoplay; camera; microphone; clipboard-read; clipboard-write;\" frameborder=\"0\" allowfullscreen></iframe></div>"
            ]
          },
          "metadata": {}
        }
      ]
    }
  ]
}